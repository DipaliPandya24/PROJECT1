{
  "cells": [
    {
      "cell_type": "code",
      "execution_count": null,
      "id": "42ae9f6d",
      "metadata": {
        "id": "42ae9f6d"
      },
      "outputs": [],
      "source": [
        "import pandas as pd\n",
        "import numpy as np\n",
        "import matplotlib.pyplot as plt\n",
        "import re\n",
        "import seaborn as sns\n",
        "import string\n",
        "import nltk\n",
        "from nltk.corpus import stopwords\n",
        "from nltk.stem.porter import PorterStemmer"
      ]
    },
    {
      "cell_type": "markdown",
      "id": "e2e572c3",
      "metadata": {
        "id": "e2e572c3"
      },
      "source": [
        "### IMPORTING DATA AND PLOTTING GRAPH FOR THE SAME"
      ]
    },
    {
      "cell_type": "code",
      "execution_count": null,
      "id": "02c1d760",
      "metadata": {
        "id": "02c1d760",
        "outputId": "8d797db0-534b-4165-ad6a-3bfcf7871c23"
      },
      "outputs": [
        {
          "data": {
            "text/html": [
              "<div>\n",
              "<style scoped>\n",
              "    .dataframe tbody tr th:only-of-type {\n",
              "        vertical-align: middle;\n",
              "    }\n",
              "\n",
              "    .dataframe tbody tr th {\n",
              "        vertical-align: top;\n",
              "    }\n",
              "\n",
              "    .dataframe thead th {\n",
              "        text-align: right;\n",
              "    }\n",
              "</style>\n",
              "<table border=\"1\" class=\"dataframe\">\n",
              "  <thead>\n",
              "    <tr style=\"text-align: right;\">\n",
              "      <th></th>\n",
              "      <th>v1</th>\n",
              "      <th>v2</th>\n",
              "      <th>Unnamed: 2</th>\n",
              "      <th>Unnamed: 3</th>\n",
              "      <th>Unnamed: 4</th>\n",
              "    </tr>\n",
              "  </thead>\n",
              "  <tbody>\n",
              "    <tr>\n",
              "      <th>0</th>\n",
              "      <td>ham</td>\n",
              "      <td>Go until jurong point, crazy.. Available only ...</td>\n",
              "      <td>NaN</td>\n",
              "      <td>NaN</td>\n",
              "      <td>NaN</td>\n",
              "    </tr>\n",
              "    <tr>\n",
              "      <th>1</th>\n",
              "      <td>ham</td>\n",
              "      <td>Ok lar... Joking wif u oni...</td>\n",
              "      <td>NaN</td>\n",
              "      <td>NaN</td>\n",
              "      <td>NaN</td>\n",
              "    </tr>\n",
              "    <tr>\n",
              "      <th>2</th>\n",
              "      <td>spam</td>\n",
              "      <td>Free entry in 2 a wkly comp to win FA Cup fina...</td>\n",
              "      <td>NaN</td>\n",
              "      <td>NaN</td>\n",
              "      <td>NaN</td>\n",
              "    </tr>\n",
              "    <tr>\n",
              "      <th>3</th>\n",
              "      <td>ham</td>\n",
              "      <td>U dun say so early hor... U c already then say...</td>\n",
              "      <td>NaN</td>\n",
              "      <td>NaN</td>\n",
              "      <td>NaN</td>\n",
              "    </tr>\n",
              "    <tr>\n",
              "      <th>4</th>\n",
              "      <td>ham</td>\n",
              "      <td>Nah I don't think he goes to usf, he lives aro...</td>\n",
              "      <td>NaN</td>\n",
              "      <td>NaN</td>\n",
              "      <td>NaN</td>\n",
              "    </tr>\n",
              "  </tbody>\n",
              "</table>\n",
              "</div>"
            ],
            "text/plain": [
              "     v1                                                 v2 Unnamed: 2  \\\n",
              "0   ham  Go until jurong point, crazy.. Available only ...        NaN   \n",
              "1   ham                      Ok lar... Joking wif u oni...        NaN   \n",
              "2  spam  Free entry in 2 a wkly comp to win FA Cup fina...        NaN   \n",
              "3   ham  U dun say so early hor... U c already then say...        NaN   \n",
              "4   ham  Nah I don't think he goes to usf, he lives aro...        NaN   \n",
              "\n",
              "  Unnamed: 3 Unnamed: 4  \n",
              "0        NaN        NaN  \n",
              "1        NaN        NaN  \n",
              "2        NaN        NaN  \n",
              "3        NaN        NaN  \n",
              "4        NaN        NaN  "
            ]
          },
          "execution_count": 2,
          "metadata": {},
          "output_type": "execute_result"
        }
      ],
      "source": [
        "df = pd.read_csv(\"C:\\\\Users\\\\hp\\\\Desktop\\\\spam.csv\",encoding='latin-1')\n",
        "df.head()"
      ]
    },
    {
      "cell_type": "code",
      "execution_count": null,
      "id": "37ce7761",
      "metadata": {
        "id": "37ce7761",
        "outputId": "319466d0-2b58-49ee-9a7d-385cb3f92042"
      },
      "outputs": [
        {
          "data": {
            "text/html": [
              "<div>\n",
              "<style scoped>\n",
              "    .dataframe tbody tr th:only-of-type {\n",
              "        vertical-align: middle;\n",
              "    }\n",
              "\n",
              "    .dataframe tbody tr th {\n",
              "        vertical-align: top;\n",
              "    }\n",
              "\n",
              "    .dataframe thead th {\n",
              "        text-align: right;\n",
              "    }\n",
              "</style>\n",
              "<table border=\"1\" class=\"dataframe\">\n",
              "  <thead>\n",
              "    <tr style=\"text-align: right;\">\n",
              "      <th></th>\n",
              "      <th>label</th>\n",
              "      <th>Text</th>\n",
              "      <th>Unnamed: 2</th>\n",
              "      <th>Unnamed: 3</th>\n",
              "      <th>Unnamed: 4</th>\n",
              "      <th>label_enc</th>\n",
              "    </tr>\n",
              "  </thead>\n",
              "  <tbody>\n",
              "    <tr>\n",
              "      <th>0</th>\n",
              "      <td>ham</td>\n",
              "      <td>Go until jurong point, crazy.. Available only ...</td>\n",
              "      <td>NaN</td>\n",
              "      <td>NaN</td>\n",
              "      <td>NaN</td>\n",
              "      <td>0</td>\n",
              "    </tr>\n",
              "    <tr>\n",
              "      <th>1</th>\n",
              "      <td>ham</td>\n",
              "      <td>Ok lar... Joking wif u oni...</td>\n",
              "      <td>NaN</td>\n",
              "      <td>NaN</td>\n",
              "      <td>NaN</td>\n",
              "      <td>0</td>\n",
              "    </tr>\n",
              "    <tr>\n",
              "      <th>2</th>\n",
              "      <td>spam</td>\n",
              "      <td>Free entry in 2 a wkly comp to win FA Cup fina...</td>\n",
              "      <td>NaN</td>\n",
              "      <td>NaN</td>\n",
              "      <td>NaN</td>\n",
              "      <td>1</td>\n",
              "    </tr>\n",
              "    <tr>\n",
              "      <th>3</th>\n",
              "      <td>ham</td>\n",
              "      <td>U dun say so early hor... U c already then say...</td>\n",
              "      <td>NaN</td>\n",
              "      <td>NaN</td>\n",
              "      <td>NaN</td>\n",
              "      <td>0</td>\n",
              "    </tr>\n",
              "    <tr>\n",
              "      <th>4</th>\n",
              "      <td>ham</td>\n",
              "      <td>Nah I don't think he goes to usf, he lives aro...</td>\n",
              "      <td>NaN</td>\n",
              "      <td>NaN</td>\n",
              "      <td>NaN</td>\n",
              "      <td>0</td>\n",
              "    </tr>\n",
              "  </tbody>\n",
              "</table>\n",
              "</div>"
            ],
            "text/plain": [
              "  label                                               Text Unnamed: 2  \\\n",
              "0   ham  Go until jurong point, crazy.. Available only ...        NaN   \n",
              "1   ham                      Ok lar... Joking wif u oni...        NaN   \n",
              "2  spam  Free entry in 2 a wkly comp to win FA Cup fina...        NaN   \n",
              "3   ham  U dun say so early hor... U c already then say...        NaN   \n",
              "4   ham  Nah I don't think he goes to usf, he lives aro...        NaN   \n",
              "\n",
              "  Unnamed: 3 Unnamed: 4  label_enc  \n",
              "0        NaN        NaN          0  \n",
              "1        NaN        NaN          0  \n",
              "2        NaN        NaN          1  \n",
              "3        NaN        NaN          0  \n",
              "4        NaN        NaN          0  "
            ]
          },
          "execution_count": 3,
          "metadata": {},
          "output_type": "execute_result"
        }
      ],
      "source": [
        "df = df.rename(columns={'v1':'label','v2':'Text'})\n",
        "df['label_enc'] = df['label'].map({'ham':0,'spam':1})\n",
        "df.head()"
      ]
    },
    {
      "cell_type": "code",
      "execution_count": null,
      "id": "c2b0c931",
      "metadata": {
        "id": "c2b0c931",
        "outputId": "8cb34b0a-5878-4d6b-e5a7-834f102130d5"
      },
      "outputs": [
        {
          "data": {
            "image/png": "[encoded data removed]",
            "text/plain": [
              "<Figure size 640x480 with 1 Axes>"
            ]
          },
          "metadata": {},
          "output_type": "display_data"
        }
      ],
      "source": [
        "sns.countplot(x=df['label'])\n",
        "plt.show()"
      ]
    },
    {
      "cell_type": "code",
      "execution_count": null,
      "id": "94dd9c7c",
      "metadata": {
        "scrolled": true,
        "id": "94dd9c7c",
        "outputId": "3cd2db4b-33cb-419f-d7c7-f1e10cebe838"
      },
      "outputs": [
        {
          "data": {
            "text/html": [
              "<div>\n",
              "<style scoped>\n",
              "    .dataframe tbody tr th:only-of-type {\n",
              "        vertical-align: middle;\n",
              "    }\n",
              "\n",
              "    .dataframe tbody tr th {\n",
              "        vertical-align: top;\n",
              "    }\n",
              "\n",
              "    .dataframe thead th {\n",
              "        text-align: right;\n",
              "    }\n",
              "</style>\n",
              "<table border=\"1\" class=\"dataframe\">\n",
              "  <thead>\n",
              "    <tr style=\"text-align: right;\">\n",
              "      <th></th>\n",
              "      <th>v1</th>\n",
              "      <th>v2</th>\n",
              "      <th>Unnamed: 2</th>\n",
              "      <th>Unnamed: 3</th>\n",
              "      <th>Unnamed: 4</th>\n",
              "    </tr>\n",
              "  </thead>\n",
              "  <tbody>\n",
              "    <tr>\n",
              "      <th>0</th>\n",
              "      <td>spam</td>\n",
              "      <td>Free entry in 2 a wkly comp to win FA Cup fina...</td>\n",
              "      <td>NaN</td>\n",
              "      <td>NaN</td>\n",
              "      <td>NaN</td>\n",
              "    </tr>\n",
              "    <tr>\n",
              "      <th>1</th>\n",
              "      <td>spam</td>\n",
              "      <td>FreeMsg Hey there darling it's been 3 week's n...</td>\n",
              "      <td>NaN</td>\n",
              "      <td>NaN</td>\n",
              "      <td>NaN</td>\n",
              "    </tr>\n",
              "    <tr>\n",
              "      <th>2</th>\n",
              "      <td>spam</td>\n",
              "      <td>WINNER!! As a valued network customer you have...</td>\n",
              "      <td>NaN</td>\n",
              "      <td>NaN</td>\n",
              "      <td>NaN</td>\n",
              "    </tr>\n",
              "    <tr>\n",
              "      <th>3</th>\n",
              "      <td>spam</td>\n",
              "      <td>Had your mobile 11 months or more? U R entitle...</td>\n",
              "      <td>NaN</td>\n",
              "      <td>NaN</td>\n",
              "      <td>NaN</td>\n",
              "    </tr>\n",
              "    <tr>\n",
              "      <th>4</th>\n",
              "      <td>spam</td>\n",
              "      <td>SIX chances to win CASH! From 100 to 20,000 po...</td>\n",
              "      <td>NaN</td>\n",
              "      <td>NaN</td>\n",
              "      <td>NaN</td>\n",
              "    </tr>\n",
              "  </tbody>\n",
              "</table>\n",
              "</div>"
            ],
            "text/plain": [
              "     v1                                                 v2 Unnamed: 2  \\\n",
              "0  spam  Free entry in 2 a wkly comp to win FA Cup fina...        NaN   \n",
              "1  spam  FreeMsg Hey there darling it's been 3 week's n...        NaN   \n",
              "2  spam  WINNER!! As a valued network customer you have...        NaN   \n",
              "3  spam  Had your mobile 11 months or more? U R entitle...        NaN   \n",
              "4  spam  SIX chances to win CASH! From 100 to 20,000 po...        NaN   \n",
              "\n",
              "  Unnamed: 3 Unnamed: 4  \n",
              "0        NaN        NaN  \n",
              "1        NaN        NaN  \n",
              "2        NaN        NaN  \n",
              "3        NaN        NaN  \n",
              "4        NaN        NaN  "
            ]
          },
          "execution_count": 5,
          "metadata": {},
          "output_type": "execute_result"
        }
      ],
      "source": [
        "df = pd.read_csv(\"C:\\\\Users\\\\hp\\\\Desktop\\\\newdata.csv\",encoding='latin-1')\n",
        "df.head()"
      ]
    },
    {
      "cell_type": "code",
      "execution_count": null,
      "id": "a4d75635",
      "metadata": {
        "id": "a4d75635",
        "outputId": "816c29c8-4208-4b61-ca0c-1a6f4b941091"
      },
      "outputs": [
        {
          "name": "stdout",
          "output_type": "stream",
          "text": [
            "\n",
            "DataFrame with Duplicates:\n",
            "       v1                                                 v2 Unnamed: 2  \\\n",
            "172  spam  Free entry in 2 a wkly comp to win FA Cup fina...        NaN   \n",
            "180  spam  You are a winner U have been specially selecte...        NaN   \n",
            "196  spam  No. 1 Nokia Tone 4 ur mob every week! Just txt...        NaN   \n",
            "236  spam  Sunshine Quiz Wkly Q! Win a top Sony DVD playe...        NaN   \n",
            "247  spam  Loan for any purpose ï¿½500 - ï¿½75,000. Homeo...        NaN   \n",
            "\n",
            "    Unnamed: 3 Unnamed: 4  \n",
            "172        NaN        NaN  \n",
            "180        NaN        NaN  \n",
            "196        NaN        NaN  \n",
            "236        NaN        NaN  \n",
            "247        NaN        NaN  \n",
            "\n",
            "DataFrame without Duplicates:\n",
            "     v1                                                 v2 Unnamed: 2  \\\n",
            "0  spam  Free entry in 2 a wkly comp to win FA Cup fina...        NaN   \n",
            "1  spam  FreeMsg Hey there darling it's been 3 week's n...        NaN   \n",
            "2  spam  WINNER!! As a valued network customer you have...        NaN   \n",
            "3  spam  Had your mobile 11 months or more? U R entitle...        NaN   \n",
            "4  spam  SIX chances to win CASH! From 100 to 20,000 po...        NaN   \n",
            "\n",
            "  Unnamed: 3 Unnamed: 4  \n",
            "0        NaN        NaN  \n",
            "1        NaN        NaN  \n",
            "2        NaN        NaN  \n",
            "3        NaN        NaN  \n",
            "4        NaN        NaN  \n"
          ]
        }
      ],
      "source": [
        "duplicatedRow = df[df.duplicated()]\n",
        "print(\"\\nDataFrame with Duplicates:\")\n",
        "print(duplicatedRow[:5])\n",
        "\n",
        "df_no_duplicates = df.drop_duplicates()\n",
        "print(\"\\nDataFrame without Duplicates:\")\n",
        "print(df_no_duplicates[:5])"
      ]
    },
    {
      "cell_type": "code",
      "execution_count": null,
      "id": "b50f3744",
      "metadata": {
        "scrolled": true,
        "id": "b50f3744",
        "outputId": "09cf976c-837e-4983-c430-7c323ab468dc"
      },
      "outputs": [
        {
          "data": {
            "text/html": [
              "<div>\n",
              "<style scoped>\n",
              "    .dataframe tbody tr th:only-of-type {\n",
              "        vertical-align: middle;\n",
              "    }\n",
              "\n",
              "    .dataframe tbody tr th {\n",
              "        vertical-align: top;\n",
              "    }\n",
              "\n",
              "    .dataframe thead th {\n",
              "        text-align: right;\n",
              "    }\n",
              "</style>\n",
              "<table border=\"1\" class=\"dataframe\">\n",
              "  <thead>\n",
              "    <tr style=\"text-align: right;\">\n",
              "      <th></th>\n",
              "      <th>label</th>\n",
              "      <th>Text</th>\n",
              "      <th>Unnamed: 2</th>\n",
              "      <th>Unnamed: 3</th>\n",
              "      <th>Unnamed: 4</th>\n",
              "      <th>label_enc</th>\n",
              "    </tr>\n",
              "  </thead>\n",
              "  <tbody>\n",
              "    <tr>\n",
              "      <th>0</th>\n",
              "      <td>spam</td>\n",
              "      <td>Free entry in 2 a wkly comp to win FA Cup fina...</td>\n",
              "      <td>NaN</td>\n",
              "      <td>NaN</td>\n",
              "      <td>NaN</td>\n",
              "      <td>1</td>\n",
              "    </tr>\n",
              "    <tr>\n",
              "      <th>1</th>\n",
              "      <td>spam</td>\n",
              "      <td>FreeMsg Hey there darling it's been 3 week's n...</td>\n",
              "      <td>NaN</td>\n",
              "      <td>NaN</td>\n",
              "      <td>NaN</td>\n",
              "      <td>1</td>\n",
              "    </tr>\n",
              "    <tr>\n",
              "      <th>2</th>\n",
              "      <td>spam</td>\n",
              "      <td>WINNER!! As a valued network customer you have...</td>\n",
              "      <td>NaN</td>\n",
              "      <td>NaN</td>\n",
              "      <td>NaN</td>\n",
              "      <td>1</td>\n",
              "    </tr>\n",
              "    <tr>\n",
              "      <th>3</th>\n",
              "      <td>spam</td>\n",
              "      <td>Had your mobile 11 months or more? U R entitle...</td>\n",
              "      <td>NaN</td>\n",
              "      <td>NaN</td>\n",
              "      <td>NaN</td>\n",
              "      <td>1</td>\n",
              "    </tr>\n",
              "    <tr>\n",
              "      <th>4</th>\n",
              "      <td>spam</td>\n",
              "      <td>SIX chances to win CASH! From 100 to 20,000 po...</td>\n",
              "      <td>NaN</td>\n",
              "      <td>NaN</td>\n",
              "      <td>NaN</td>\n",
              "      <td>1</td>\n",
              "    </tr>\n",
              "  </tbody>\n",
              "</table>\n",
              "</div>"
            ],
            "text/plain": [
              "  label                                               Text Unnamed: 2  \\\n",
              "0  spam  Free entry in 2 a wkly comp to win FA Cup fina...        NaN   \n",
              "1  spam  FreeMsg Hey there darling it's been 3 week's n...        NaN   \n",
              "2  spam  WINNER!! As a valued network customer you have...        NaN   \n",
              "3  spam  Had your mobile 11 months or more? U R entitle...        NaN   \n",
              "4  spam  SIX chances to win CASH! From 100 to 20,000 po...        NaN   \n",
              "\n",
              "  Unnamed: 3 Unnamed: 4  label_enc  \n",
              "0        NaN        NaN          1  \n",
              "1        NaN        NaN          1  \n",
              "2        NaN        NaN          1  \n",
              "3        NaN        NaN          1  \n",
              "4        NaN        NaN          1  "
            ]
          },
          "execution_count": 7,
          "metadata": {},
          "output_type": "execute_result"
        }
      ],
      "source": [
        "df = df.rename(columns={'v1':'label','v2':'Text'})\n",
        "df['label_enc'] = df['label'].map({'ham':0,'spam':1})\n",
        "df.head()"
      ]
    },
    {
      "cell_type": "code",
      "execution_count": null,
      "id": "9e3946c3",
      "metadata": {
        "id": "9e3946c3",
        "outputId": "ba212b85-9e16-4fd6-ca5d-d662e3028753"
      },
      "outputs": [
        {
          "data": {
            "text/html": [
              "<div>\n",
              "<style scoped>\n",
              "    .dataframe tbody tr th:only-of-type {\n",
              "        vertical-align: middle;\n",
              "    }\n",
              "\n",
              "    .dataframe tbody tr th {\n",
              "        vertical-align: top;\n",
              "    }\n",
              "\n",
              "    .dataframe thead th {\n",
              "        text-align: right;\n",
              "    }\n",
              "</style>\n",
              "<table border=\"1\" class=\"dataframe\">\n",
              "  <thead>\n",
              "    <tr style=\"text-align: right;\">\n",
              "      <th></th>\n",
              "      <th>label</th>\n",
              "      <th>Text</th>\n",
              "      <th>label_enc</th>\n",
              "    </tr>\n",
              "  </thead>\n",
              "  <tbody>\n",
              "    <tr>\n",
              "      <th>0</th>\n",
              "      <td>spam</td>\n",
              "      <td>Free entry in 2 a wkly comp to win FA Cup fina...</td>\n",
              "      <td>1</td>\n",
              "    </tr>\n",
              "    <tr>\n",
              "      <th>1</th>\n",
              "      <td>spam</td>\n",
              "      <td>FreeMsg Hey there darling it's been 3 week's n...</td>\n",
              "      <td>1</td>\n",
              "    </tr>\n",
              "    <tr>\n",
              "      <th>2</th>\n",
              "      <td>spam</td>\n",
              "      <td>WINNER!! As a valued network customer you have...</td>\n",
              "      <td>1</td>\n",
              "    </tr>\n",
              "    <tr>\n",
              "      <th>3</th>\n",
              "      <td>spam</td>\n",
              "      <td>Had your mobile 11 months or more? U R entitle...</td>\n",
              "      <td>1</td>\n",
              "    </tr>\n",
              "    <tr>\n",
              "      <th>4</th>\n",
              "      <td>spam</td>\n",
              "      <td>SIX chances to win CASH! From 100 to 20,000 po...</td>\n",
              "      <td>1</td>\n",
              "    </tr>\n",
              "  </tbody>\n",
              "</table>\n",
              "</div>"
            ],
            "text/plain": [
              "  label                                               Text  label_enc\n",
              "0  spam  Free entry in 2 a wkly comp to win FA Cup fina...          1\n",
              "1  spam  FreeMsg Hey there darling it's been 3 week's n...          1\n",
              "2  spam  WINNER!! As a valued network customer you have...          1\n",
              "3  spam  Had your mobile 11 months or more? U R entitle...          1\n",
              "4  spam  SIX chances to win CASH! From 100 to 20,000 po...          1"
            ]
          },
          "execution_count": 8,
          "metadata": {},
          "output_type": "execute_result"
        }
      ],
      "source": [
        "df.head().drop(['Unnamed: 2','Unnamed: 3','Unnamed: 4'], axis =1)"
      ]
    },
    {
      "cell_type": "code",
      "execution_count": null,
      "id": "149c5aee",
      "metadata": {
        "id": "149c5aee",
        "outputId": "a2080729-a546-4312-d58c-a0666836adaa"
      },
      "outputs": [
        {
          "data": {
            "image/png": "[encoded data removed]",
            "text/plain": [
              "<Figure size 640x480 with 1 Axes>"
            ]
          },
          "metadata": {},
          "output_type": "display_data"
        }
      ],
      "source": [
        "sns.countplot(x=df['label'])\n",
        "plt.show()"
      ]
    },
    {
      "cell_type": "markdown",
      "id": "7027d789",
      "metadata": {
        "id": "7027d789"
      },
      "source": [
        "### FINDING POLARITY OF THE DATA"
      ]
    },
    {
      "cell_type": "code",
      "execution_count": null,
      "id": "02f19814",
      "metadata": {
        "id": "02f19814",
        "outputId": "96a3caba-5f92-4733-eba9-475396a3b764"
      },
      "outputs": [
        {
          "data": {
            "text/html": [
              "<div>\n",
              "<style scoped>\n",
              "    .dataframe tbody tr th:only-of-type {\n",
              "        vertical-align: middle;\n",
              "    }\n",
              "\n",
              "    .dataframe tbody tr th {\n",
              "        vertical-align: top;\n",
              "    }\n",
              "\n",
              "    .dataframe thead th {\n",
              "        text-align: right;\n",
              "    }\n",
              "</style>\n",
              "<table border=\"1\" class=\"dataframe\">\n",
              "  <thead>\n",
              "    <tr style=\"text-align: right;\">\n",
              "      <th></th>\n",
              "      <th>v1</th>\n",
              "      <th>v2</th>\n",
              "      <th>Sentiment</th>\n",
              "    </tr>\n",
              "  </thead>\n",
              "  <tbody>\n",
              "    <tr>\n",
              "      <th>0</th>\n",
              "      <td>spam</td>\n",
              "      <td>Free entry in 2 a wkly comp to win FA Cup fina...</td>\n",
              "      <td>Positive</td>\n",
              "    </tr>\n",
              "    <tr>\n",
              "      <th>1</th>\n",
              "      <td>spam</td>\n",
              "      <td>FreeMsg Hey there darling it's been 3 week's n...</td>\n",
              "      <td>Positive</td>\n",
              "    </tr>\n",
              "    <tr>\n",
              "      <th>2</th>\n",
              "      <td>spam</td>\n",
              "      <td>WINNER!! As a valued network customer you have...</td>\n",
              "      <td>Neutral</td>\n",
              "    </tr>\n",
              "    <tr>\n",
              "      <th>3</th>\n",
              "      <td>spam</td>\n",
              "      <td>Had your mobile 11 months or more? U R entitle...</td>\n",
              "      <td>Positive</td>\n",
              "    </tr>\n",
              "    <tr>\n",
              "      <th>4</th>\n",
              "      <td>spam</td>\n",
              "      <td>SIX chances to win CASH! From 100 to 20,000 po...</td>\n",
              "      <td>Positive</td>\n",
              "    </tr>\n",
              "  </tbody>\n",
              "</table>\n",
              "</div>"
            ],
            "text/plain": [
              "     v1                                                 v2 Sentiment\n",
              "0  spam  Free entry in 2 a wkly comp to win FA Cup fina...  Positive\n",
              "1  spam  FreeMsg Hey there darling it's been 3 week's n...  Positive\n",
              "2  spam  WINNER!! As a valued network customer you have...   Neutral\n",
              "3  spam  Had your mobile 11 months or more? U R entitle...  Positive\n",
              "4  spam  SIX chances to win CASH! From 100 to 20,000 po...  Positive"
            ]
          },
          "execution_count": 9,
          "metadata": {},
          "output_type": "execute_result"
        }
      ],
      "source": [
        "from textblob import TextBlob\n",
        "def analyze_sentiment(text):\n",
        "    analysis = TextBlob(text)\n",
        "    return analysis.sentiment.polarity\n",
        "\n",
        "def check_polarity(csv_file_path, text_column_name):\n",
        "    df = pd.read_csv(csv_file_path)\n",
        "\n",
        "    sentiments = []\n",
        "\n",
        "    for index, row in df.iterrows():\n",
        "        text = row[text_column_name]\n",
        "        polarity = analyze_sentiment(text)\n",
        "\n",
        "        if polarity > 0:\n",
        "            sentiment = \"Positive\"\n",
        "        elif polarity == 0:\n",
        "            sentiment = \"Neutral\"\n",
        "        else:\n",
        "            sentiment = \"Negative\"\n",
        "\n",
        "        sentiments.append(sentiment)\n",
        "\n",
        "    df['Sentiment'] = sentiments\n",
        "    df.to_csv('C:\\\\Users\\\\hp\\\\Desktop\\\\newdata_with_sentiment.csv', index=False)\n",
        "\n",
        "csv_file_path = 'C:\\\\Users\\\\hp\\\\Desktop\\\\newdata.csv'\n",
        "text_column_name = 'v2'\n",
        "check_polarity(csv_file_path, text_column_name)\n",
        "\n",
        "df = pd.read_csv(\"C:\\\\Users\\\\hp\\\\Desktop\\\\newdata_with_sentiment.csv\",encoding='latin-1')\n",
        "df.head()\n",
        "df.head().drop(['Unnamed: 2','Unnamed: 3','Unnamed: 4'], axis =1)"
      ]
    },
    {
      "cell_type": "markdown",
      "id": "03e7e7db",
      "metadata": {
        "id": "03e7e7db"
      },
      "source": [
        "### USING DIFFERENT NLP LIBRARIES"
      ]
    },
    {
      "cell_type": "markdown",
      "id": "960cc0fa",
      "metadata": {
        "id": "960cc0fa"
      },
      "source": [
        "1. NLKT Library"
      ]
    },
    {
      "cell_type": "code",
      "execution_count": null,
      "id": "5a4a2a4f",
      "metadata": {
        "id": "5a4a2a4f",
        "outputId": "c5dd479f-ccb0-49d0-82e0-fd5837fd4899"
      },
      "outputs": [
        {
          "data": {
            "text/html": [
              "<div>\n",
              "<style scoped>\n",
              "    .dataframe tbody tr th:only-of-type {\n",
              "        vertical-align: middle;\n",
              "    }\n",
              "\n",
              "    .dataframe tbody tr th {\n",
              "        vertical-align: top;\n",
              "    }\n",
              "\n",
              "    .dataframe thead th {\n",
              "        text-align: right;\n",
              "    }\n",
              "</style>\n",
              "<table border=\"1\" class=\"dataframe\">\n",
              "  <thead>\n",
              "    <tr style=\"text-align: right;\">\n",
              "      <th></th>\n",
              "      <th>v1</th>\n",
              "      <th>v2</th>\n",
              "      <th>Unnamed: 2</th>\n",
              "      <th>Unnamed: 3</th>\n",
              "      <th>Unnamed: 4</th>\n",
              "    </tr>\n",
              "  </thead>\n",
              "  <tbody>\n",
              "    <tr>\n",
              "      <th>0</th>\n",
              "      <td>spam</td>\n",
              "      <td>Free entry in 2 a wkly comp to win FA Cup fina...</td>\n",
              "      <td>NaN</td>\n",
              "      <td>NaN</td>\n",
              "      <td>NaN</td>\n",
              "    </tr>\n",
              "    <tr>\n",
              "      <th>1</th>\n",
              "      <td>spam</td>\n",
              "      <td>FreeMsg Hey there darling it's been 3 week's n...</td>\n",
              "      <td>NaN</td>\n",
              "      <td>NaN</td>\n",
              "      <td>NaN</td>\n",
              "    </tr>\n",
              "    <tr>\n",
              "      <th>2</th>\n",
              "      <td>spam</td>\n",
              "      <td>WINNER!! As a valued network customer you have...</td>\n",
              "      <td>NaN</td>\n",
              "      <td>NaN</td>\n",
              "      <td>NaN</td>\n",
              "    </tr>\n",
              "    <tr>\n",
              "      <th>3</th>\n",
              "      <td>spam</td>\n",
              "      <td>Had your mobile 11 months or more? U R entitle...</td>\n",
              "      <td>NaN</td>\n",
              "      <td>NaN</td>\n",
              "      <td>NaN</td>\n",
              "    </tr>\n",
              "    <tr>\n",
              "      <th>4</th>\n",
              "      <td>spam</td>\n",
              "      <td>SIX chances to win CASH! From 100 to 20,000 po...</td>\n",
              "      <td>NaN</td>\n",
              "      <td>NaN</td>\n",
              "      <td>NaN</td>\n",
              "    </tr>\n",
              "  </tbody>\n",
              "</table>\n",
              "</div>"
            ],
            "text/plain": [
              "     v1                                                 v2 Unnamed: 2  \\\n",
              "0  spam  Free entry in 2 a wkly comp to win FA Cup fina...        NaN   \n",
              "1  spam  FreeMsg Hey there darling it's been 3 week's n...        NaN   \n",
              "2  spam  WINNER!! As a valued network customer you have...        NaN   \n",
              "3  spam  Had your mobile 11 months or more? U R entitle...        NaN   \n",
              "4  spam  SIX chances to win CASH! From 100 to 20,000 po...        NaN   \n",
              "\n",
              "  Unnamed: 3 Unnamed: 4  \n",
              "0        NaN        NaN  \n",
              "1        NaN        NaN  \n",
              "2        NaN        NaN  \n",
              "3        NaN        NaN  \n",
              "4        NaN        NaN  "
            ]
          },
          "execution_count": 10,
          "metadata": {},
          "output_type": "execute_result"
        }
      ],
      "source": [
        "data=pd.read_csv(\"newdata.csv\")\n",
        "data.head()"
      ]
    },
    {
      "cell_type": "code",
      "execution_count": null,
      "id": "9fc1296c",
      "metadata": {
        "id": "9fc1296c",
        "outputId": "392bbb8a-1662-493b-87ba-610ed548e1a4"
      },
      "outputs": [
        {
          "name": "stderr",
          "output_type": "stream",
          "text": [
            "C:\\Users\\hp\\AppData\\Local\\Temp\\ipykernel_17108\\3886577178.py:2: SettingWithCopyWarning: \n",
            "A value is trying to be set on a copy of a slice from a DataFrame.\n",
            "Try using .loc[row_indexer,col_indexer] = value instead\n",
            "\n",
            "See the caveats in the documentation: https://pandas.pydata.org/pandas-docs/stable/user_guide/indexing.html#returning-a-view-versus-a-copy\n",
            "  df['v2']=df['v2'].str.lower()\n",
            "C:\\Users\\hp\\AppData\\Local\\Temp\\ipykernel_17108\\3886577178.py:7: SettingWithCopyWarning: \n",
            "A value is trying to be set on a copy of a slice from a DataFrame.\n",
            "Try using .loc[row_indexer,col_indexer] = value instead\n",
            "\n",
            "See the caveats in the documentation: https://pandas.pydata.org/pandas-docs/stable/user_guide/indexing.html#returning-a-view-versus-a-copy\n",
            "  df['v2']=df['v2'].astype(str)\n",
            "C:\\Users\\hp\\AppData\\Local\\Temp\\ipykernel_17108\\3886577178.py:8: SettingWithCopyWarning: \n",
            "A value is trying to be set on a copy of a slice from a DataFrame.\n",
            "Try using .loc[row_indexer,col_indexer] = value instead\n",
            "\n",
            "See the caveats in the documentation: https://pandas.pydata.org/pandas-docs/stable/user_guide/indexing.html#returning-a-view-versus-a-copy\n",
            "  df['v2']=df['v2'].apply(lambda text: remove_punc(text))\n",
            "C:\\Users\\hp\\AppData\\Local\\Temp\\ipykernel_17108\\3886577178.py:20: SettingWithCopyWarning: \n",
            "A value is trying to be set on a copy of a slice from a DataFrame.\n",
            "Try using .loc[row_indexer,col_indexer] = value instead\n",
            "\n",
            "See the caveats in the documentation: https://pandas.pydata.org/pandas-docs/stable/user_guide/indexing.html#returning-a-view-versus-a-copy\n",
            "  df['v2']=df['v2'].apply(lambda text: remove_fword(text))\n",
            "C:\\Users\\hp\\AppData\\Local\\Temp\\ipykernel_17108\\3886577178.py:21: SettingWithCopyWarning: \n",
            "A value is trying to be set on a copy of a slice from a DataFrame.\n",
            "Try using .loc[row_indexer,col_indexer] = value instead\n",
            "\n",
            "See the caveats in the documentation: https://pandas.pydata.org/pandas-docs/stable/user_guide/indexing.html#returning-a-view-versus-a-copy\n",
            "  df['v2']=df['v2'].apply(lambda text: \" \".join([w for w in text.split() if len(w)>3]))\n"
          ]
        },
        {
          "data": {
            "text/html": [
              "<div>\n",
              "<style scoped>\n",
              "    .dataframe tbody tr th:only-of-type {\n",
              "        vertical-align: middle;\n",
              "    }\n",
              "\n",
              "    .dataframe tbody tr th {\n",
              "        vertical-align: top;\n",
              "    }\n",
              "\n",
              "    .dataframe thead th {\n",
              "        text-align: right;\n",
              "    }\n",
              "</style>\n",
              "<table border=\"1\" class=\"dataframe\">\n",
              "  <thead>\n",
              "    <tr style=\"text-align: right;\">\n",
              "      <th></th>\n",
              "      <th>v1</th>\n",
              "      <th>v2</th>\n",
              "    </tr>\n",
              "  </thead>\n",
              "  <tbody>\n",
              "    <tr>\n",
              "      <th>0</th>\n",
              "      <td>spam</td>\n",
              "      <td>entry wkly comp final tkts text receive entry ...</td>\n",
              "    </tr>\n",
              "    <tr>\n",
              "      <th>1</th>\n",
              "      <td>spam</td>\n",
              "      <td>freemsg there darling been week word back like...</td>\n",
              "    </tr>\n",
              "    <tr>\n",
              "      <th>2</th>\n",
              "      <td>spam</td>\n",
              "      <td>winner valued network customer been selected r...</td>\n",
              "    </tr>\n",
              "    <tr>\n",
              "      <th>3</th>\n",
              "      <td>spam</td>\n",
              "      <td>mobile months more entitled update latest colo...</td>\n",
              "    </tr>\n",
              "    <tr>\n",
              "      <th>4</th>\n",
              "      <td>spam</td>\n",
              "      <td>chances cash from pounds send cost days tsandc...</td>\n",
              "    </tr>\n",
              "    <tr>\n",
              "      <th>...</th>\n",
              "      <td>...</td>\n",
              "      <td>...</td>\n",
              "    </tr>\n",
              "    <tr>\n",
              "      <th>1605</th>\n",
              "      <td>spam</td>\n",
              "      <td>this time tried contact pound prize claim easy...</td>\n",
              "    </tr>\n",
              "    <tr>\n",
              "      <th>1606</th>\n",
              "      <td>ham</td>\n",
              "      <td>will going esplanade home</td>\n",
              "    </tr>\n",
              "    <tr>\n",
              "      <th>1607</th>\n",
              "      <td>ham</td>\n",
              "      <td>pity mood that other suggestions</td>\n",
              "    </tr>\n",
              "    <tr>\n",
              "      <th>1608</th>\n",
              "      <td>ham</td>\n",
              "      <td>some bitching acted like interested buying som...</td>\n",
              "    </tr>\n",
              "    <tr>\n",
              "      <th>1609</th>\n",
              "      <td>ham</td>\n",
              "      <td>rofl true name</td>\n",
              "    </tr>\n",
              "  </tbody>\n",
              "</table>\n",
              "<p>1610 rows × 2 columns</p>\n",
              "</div>"
            ],
            "text/plain": [
              "        v1                                                 v2\n",
              "0     spam  entry wkly comp final tkts text receive entry ...\n",
              "1     spam  freemsg there darling been week word back like...\n",
              "2     spam  winner valued network customer been selected r...\n",
              "3     spam  mobile months more entitled update latest colo...\n",
              "4     spam  chances cash from pounds send cost days tsandc...\n",
              "...    ...                                                ...\n",
              "1605  spam  this time tried contact pound prize claim easy...\n",
              "1606   ham                          will going esplanade home\n",
              "1607   ham                   pity mood that other suggestions\n",
              "1608   ham  some bitching acted like interested buying som...\n",
              "1609   ham                                     rofl true name\n",
              "\n",
              "[1610 rows x 2 columns]"
            ]
          },
          "execution_count": 11,
          "metadata": {},
          "output_type": "execute_result"
        }
      ],
      "source": [
        "df=data[[\"v1\",\"v2\"]]\n",
        "df['v2']=df['v2'].str.lower()\n",
        "\n",
        "def remove_punc(text):\n",
        "    k=re.sub('[^a-z]',\" \",text)\n",
        "    return \"\".join(k)\n",
        "df['v2']=df['v2'].astype(str)\n",
        "df['v2']=df['v2'].apply(lambda text: remove_punc(text))\n",
        "\n",
        "from collections import Counter\n",
        "cn=Counter()\n",
        "for i in df['v2'].values:\n",
        "    for j in i.split():\n",
        "        cn[j]+=1\n",
        "most_freq=set([w for (w,wc) in cn.most_common(20)])\n",
        "most_freq\n",
        "def remove_fword(text):\n",
        "    return \" \".join(w for w in text.split() if w not in most_freq)\n",
        "\n",
        "df['v2']=df['v2'].apply(lambda text: remove_fword(text))\n",
        "df['v2']=df['v2'].apply(lambda text: \" \".join([w for w in text.split() if len(w)>3]))\n",
        "df"
      ]
    },
    {
      "cell_type": "code",
      "execution_count": null,
      "id": "7b575f79",
      "metadata": {
        "id": "7b575f79",
        "outputId": "765d6fcb-e650-4df1-8cdd-5f054519b5ea"
      },
      "outputs": [
        {
          "name": "stderr",
          "output_type": "stream",
          "text": [
            "C:\\Users\\hp\\AppData\\Local\\Temp\\ipykernel_17108\\941087366.py:14: SettingWithCopyWarning: \n",
            "A value is trying to be set on a copy of a slice from a DataFrame.\n",
            "Try using .loc[row_indexer,col_indexer] = value instead\n",
            "\n",
            "See the caveats in the documentation: https://pandas.pydata.org/pandas-docs/stable/user_guide/indexing.html#returning-a-view-versus-a-copy\n",
            "  df['Review Text_ps'] = df['v2'].apply(lambda text: pstemmer(text))\n",
            "C:\\Users\\hp\\AppData\\Local\\Temp\\ipykernel_17108\\941087366.py:19: SettingWithCopyWarning: \n",
            "A value is trying to be set on a copy of a slice from a DataFrame.\n",
            "Try using .loc[row_indexer,col_indexer] = value instead\n",
            "\n",
            "See the caveats in the documentation: https://pandas.pydata.org/pandas-docs/stable/user_guide/indexing.html#returning-a-view-versus-a-copy\n",
            "  df['Review Text_ss'] = df['v2'].apply(lambda text: sstemmer(text))\n"
          ]
        },
        {
          "data": {
            "text/html": [
              "<div>\n",
              "<style scoped>\n",
              "    .dataframe tbody tr th:only-of-type {\n",
              "        vertical-align: middle;\n",
              "    }\n",
              "\n",
              "    .dataframe tbody tr th {\n",
              "        vertical-align: top;\n",
              "    }\n",
              "\n",
              "    .dataframe thead th {\n",
              "        text-align: right;\n",
              "    }\n",
              "</style>\n",
              "<table border=\"1\" class=\"dataframe\">\n",
              "  <thead>\n",
              "    <tr style=\"text-align: right;\">\n",
              "      <th></th>\n",
              "      <th>v1</th>\n",
              "      <th>v2</th>\n",
              "      <th>Review Text_ps</th>\n",
              "      <th>Review Text_ss</th>\n",
              "      <th>Review Text_wl</th>\n",
              "      <th>processed_message</th>\n",
              "    </tr>\n",
              "  </thead>\n",
              "  <tbody>\n",
              "    <tr>\n",
              "      <th>0</th>\n",
              "      <td>spam</td>\n",
              "      <td>entry wkly comp final tkts text receive entry ...</td>\n",
              "      <td>entri wkli comp final tkt text receiv entri qu...</td>\n",
              "      <td>entri wkli comp final tkts text receiv entri q...</td>\n",
              "      <td>entry wkly comp final tkts text receive entry ...</td>\n",
              "      <td>entry wkly comp final tkts text receive entry ...</td>\n",
              "    </tr>\n",
              "    <tr>\n",
              "      <th>1</th>\n",
              "      <td>spam</td>\n",
              "      <td>freemsg there darling been week word back like...</td>\n",
              "      <td>freemsg there darl been week word back like so...</td>\n",
              "      <td>freemsg there darl been week word back like so...</td>\n",
              "      <td>freemsg there darling been week word back like...</td>\n",
              "      <td>freemsg darling week word back like still chgs...</td>\n",
              "    </tr>\n",
              "    <tr>\n",
              "      <th>2</th>\n",
              "      <td>spam</td>\n",
              "      <td>winner valued network customer been selected r...</td>\n",
              "      <td>winner valu network custom been select receive...</td>\n",
              "      <td>winner valu network custom been select receive...</td>\n",
              "      <td>winner valued network customer been selected r...</td>\n",
              "      <td>winner valued network customer selected receiv...</td>\n",
              "    </tr>\n",
              "    <tr>\n",
              "      <th>3</th>\n",
              "      <td>spam</td>\n",
              "      <td>mobile months more entitled update latest colo...</td>\n",
              "      <td>mobil month more entitl updat latest colour mo...</td>\n",
              "      <td>mobil month more entitl updat latest colour mo...</td>\n",
              "      <td>mobile month more entitled update latest colou...</td>\n",
              "      <td>mobile months entitled update latest colour mo...</td>\n",
              "    </tr>\n",
              "    <tr>\n",
              "      <th>4</th>\n",
              "      <td>spam</td>\n",
              "      <td>chances cash from pounds send cost days tsandc...</td>\n",
              "      <td>chanc cash from pound send cost day tsandc app...</td>\n",
              "      <td>chanc cash from pound send cost day tsandc app...</td>\n",
              "      <td>chance cash from pound send cost day tsandcs a...</td>\n",
              "      <td>chances cash pounds send cost days tsandcs app...</td>\n",
              "    </tr>\n",
              "    <tr>\n",
              "      <th>...</th>\n",
              "      <td>...</td>\n",
              "      <td>...</td>\n",
              "      <td>...</td>\n",
              "      <td>...</td>\n",
              "      <td>...</td>\n",
              "      <td>...</td>\n",
              "    </tr>\n",
              "    <tr>\n",
              "      <th>1605</th>\n",
              "      <td>spam</td>\n",
              "      <td>this time tried contact pound prize claim easy...</td>\n",
              "      <td>thi time tri contact pound prize claim easi on...</td>\n",
              "      <td>this time tri contact pound prize claim easi o...</td>\n",
              "      <td>this time tried contact pound prize claim easy...</td>\n",
              "      <td>time tried contact pound prize claim easy minu...</td>\n",
              "    </tr>\n",
              "    <tr>\n",
              "      <th>1606</th>\n",
              "      <td>ham</td>\n",
              "      <td>will going esplanade home</td>\n",
              "      <td>will go esplanad home</td>\n",
              "      <td>will go esplanad home</td>\n",
              "      <td>will going esplanade home</td>\n",
              "      <td>going esplanade home</td>\n",
              "    </tr>\n",
              "    <tr>\n",
              "      <th>1607</th>\n",
              "      <td>ham</td>\n",
              "      <td>pity mood that other suggestions</td>\n",
              "      <td>piti mood that other suggest</td>\n",
              "      <td>piti mood that other suggest</td>\n",
              "      <td>pity mood that other suggestion</td>\n",
              "      <td>pity mood suggestions</td>\n",
              "    </tr>\n",
              "    <tr>\n",
              "      <th>1608</th>\n",
              "      <td>ham</td>\n",
              "      <td>some bitching acted like interested buying som...</td>\n",
              "      <td>some bitch act like interest buy someth els ne...</td>\n",
              "      <td>some bitch act like interest buy someth els ne...</td>\n",
              "      <td>some bitching acted like interested buying som...</td>\n",
              "      <td>bitching acted like interested buying somethin...</td>\n",
              "    </tr>\n",
              "    <tr>\n",
              "      <th>1609</th>\n",
              "      <td>ham</td>\n",
              "      <td>rofl true name</td>\n",
              "      <td>rofl true name</td>\n",
              "      <td>rofl true name</td>\n",
              "      <td>rofl true name</td>\n",
              "      <td>rofl true name</td>\n",
              "    </tr>\n",
              "  </tbody>\n",
              "</table>\n",
              "<p>1610 rows × 6 columns</p>\n",
              "</div>"
            ],
            "text/plain": [
              "        v1                                                 v2  \\\n",
              "0     spam  entry wkly comp final tkts text receive entry ...   \n",
              "1     spam  freemsg there darling been week word back like...   \n",
              "2     spam  winner valued network customer been selected r...   \n",
              "3     spam  mobile months more entitled update latest colo...   \n",
              "4     spam  chances cash from pounds send cost days tsandc...   \n",
              "...    ...                                                ...   \n",
              "1605  spam  this time tried contact pound prize claim easy...   \n",
              "1606   ham                          will going esplanade home   \n",
              "1607   ham                   pity mood that other suggestions   \n",
              "1608   ham  some bitching acted like interested buying som...   \n",
              "1609   ham                                     rofl true name   \n",
              "\n",
              "                                         Review Text_ps  \\\n",
              "0     entri wkli comp final tkt text receiv entri qu...   \n",
              "1     freemsg there darl been week word back like so...   \n",
              "2     winner valu network custom been select receive...   \n",
              "3     mobil month more entitl updat latest colour mo...   \n",
              "4     chanc cash from pound send cost day tsandc app...   \n",
              "...                                                 ...   \n",
              "1605  thi time tri contact pound prize claim easi on...   \n",
              "1606                              will go esplanad home   \n",
              "1607                       piti mood that other suggest   \n",
              "1608  some bitch act like interest buy someth els ne...   \n",
              "1609                                     rofl true name   \n",
              "\n",
              "                                         Review Text_ss  \\\n",
              "0     entri wkli comp final tkts text receiv entri q...   \n",
              "1     freemsg there darl been week word back like so...   \n",
              "2     winner valu network custom been select receive...   \n",
              "3     mobil month more entitl updat latest colour mo...   \n",
              "4     chanc cash from pound send cost day tsandc app...   \n",
              "...                                                 ...   \n",
              "1605  this time tri contact pound prize claim easi o...   \n",
              "1606                              will go esplanad home   \n",
              "1607                       piti mood that other suggest   \n",
              "1608  some bitch act like interest buy someth els ne...   \n",
              "1609                                     rofl true name   \n",
              "\n",
              "                                         Review Text_wl  \\\n",
              "0     entry wkly comp final tkts text receive entry ...   \n",
              "1     freemsg there darling been week word back like...   \n",
              "2     winner valued network customer been selected r...   \n",
              "3     mobile month more entitled update latest colou...   \n",
              "4     chance cash from pound send cost day tsandcs a...   \n",
              "...                                                 ...   \n",
              "1605  this time tried contact pound prize claim easy...   \n",
              "1606                          will going esplanade home   \n",
              "1607                    pity mood that other suggestion   \n",
              "1608  some bitching acted like interested buying som...   \n",
              "1609                                     rofl true name   \n",
              "\n",
              "                                      processed_message  \n",
              "0     entry wkly comp final tkts text receive entry ...  \n",
              "1     freemsg darling week word back like still chgs...  \n",
              "2     winner valued network customer selected receiv...  \n",
              "3     mobile months entitled update latest colour mo...  \n",
              "4     chances cash pounds send cost days tsandcs app...  \n",
              "...                                                 ...  \n",
              "1605  time tried contact pound prize claim easy minu...  \n",
              "1606                               going esplanade home  \n",
              "1607                              pity mood suggestions  \n",
              "1608  bitching acted like interested buying somethin...  \n",
              "1609                                     rofl true name  \n",
              "\n",
              "[1610 rows x 6 columns]"
            ]
          },
          "execution_count": 13,
          "metadata": {},
          "output_type": "execute_result"
        }
      ],
      "source": [
        "from nltk.stem import PorterStemmer, SnowballStemmer, WordNetLemmatizer\n",
        "from nltk import wordnet\n",
        "stopwords = set(stopwords.words('english'))\n",
        "Ps = PorterStemmer()\n",
        "Ss = SnowballStemmer(language='english')\n",
        "Wl = WordNetLemmatizer()\n",
        "\n",
        "\n",
        "\n",
        "\n",
        "def pstemmer(text):\n",
        "    return \" \".join(Ps.stem(w) for w in text.split())\n",
        "\n",
        "df['Review Text_ps'] = df['v2'].apply(lambda text: pstemmer(text))\n",
        "\n",
        "def sstemmer(text):\n",
        "    return \" \".join(Ss.stem(w) for w in text.split())\n",
        "\n",
        "df['Review Text_ss'] = df['v2'].apply(lambda text: sstemmer(text))\n",
        "\n",
        "def lstemmer(text):\n",
        "    return \" \".join(Wl.lemmatize(w) for w in text.split())\n",
        "\n",
        "df['Review Text_wl'] = df['v2'].apply(lambda text: lstemmer(text))\n",
        "\n",
        "def preprocess_text(text):\n",
        "    text = re.sub('[^a-zA-Z]', ' ', text)\n",
        "    text = text.lower()\n",
        "    text = ' '.join(word for word in text.split() if word not in stopwords)\n",
        "    return text\n",
        "\n",
        "df['processed_message'] = df['v2'].apply(preprocess_text)\n",
        "df"
      ]
    },
    {
      "cell_type": "code",
      "execution_count": null,
      "id": "8ec9bac0",
      "metadata": {
        "id": "8ec9bac0"
      },
      "outputs": [],
      "source": [
        "import sklearn"
      ]
    },
    {
      "cell_type": "code",
      "execution_count": null,
      "id": "56674de5",
      "metadata": {
        "id": "56674de5",
        "outputId": "8017b6e6-2fb1-4197-d9f5-4b571236d2ec"
      },
      "outputs": [
        {
          "name": "stdout",
          "output_type": "stream",
          "text": [
            "Accuracy: 0.9283667621776505\n",
            "Classification Report:\n",
            "              precision    recall  f1-score   support\n",
            "\n",
            "         ham       0.88      0.98      0.93       169\n",
            "        spam       0.98      0.88      0.93       180\n",
            "\n",
            "    accuracy                           0.93       349\n",
            "   macro avg       0.93      0.93      0.93       349\n",
            "weighted avg       0.93      0.93      0.93       349\n",
            "\n",
            "[[166   3]\n",
            " [ 22 158]]\n"
          ]
        }
      ],
      "source": [
        "from sklearn.feature_extraction.text import TfidfVectorizer,CountVectorizer\n",
        "cv=CountVectorizer()\n",
        "tf=TfidfVectorizer()\n",
        "from imblearn.over_sampling import SMOTE\n",
        "s=SMOTE()\n",
        "data=tf.fit_transform(df['Review Text_wl'])\n",
        "data2=cv.fit_transform(df['Review Text_wl'])\n",
        "x=pd.DataFrame(data.toarray())\n",
        "X=pd.DataFrame(data2.toarray())\n",
        "y=df['v1']\n",
        "dat=s.fit_resample(x,y=df['v1'])\n",
        "x=pd.DataFrame(dat[0])\n",
        "from sklearn.model_selection import train_test_split\n",
        "x_train, x_test, y_train, y_test = train_test_split(x, dat[1], test_size=0.2, random_state=42)\n",
        "from sklearn.linear_model import LogisticRegression\n",
        "lr=LogisticRegression()\n",
        "lr.fit(x_train,y_train)\n",
        "y_pred=lr.predict(x_test)\n",
        "from sklearn.metrics import accuracy_score\n",
        "accuracy = accuracy_score(y_test, y_pred)\n",
        "from sklearn.metrics import classification_report,confusion_matrix\n",
        "print(\"Accuracy:\", accuracy)\n",
        "print(\"Classification Report:\")\n",
        "print(classification_report(y_test,y_pred))\n",
        "print(confusion_matrix(y_test,y_pred))"
      ]
    },
    {
      "cell_type": "code",
      "execution_count": null,
      "id": "7a5b3e22",
      "metadata": {
        "id": "7a5b3e22",
        "outputId": "9de534d7-821a-4f25-aa07-632607dd61e7"
      },
      "outputs": [
        {
          "data": {
            "image/png": "[encoded data removed]",
            "text/plain": [
              "<Figure size 800x600 with 2 Axes>"
            ]
          },
          "metadata": {},
          "output_type": "display_data"
        }
      ],
      "source": [
        "from sklearn.naive_bayes import MultinomialNB\n",
        "classifier = MultinomialNB()\n",
        "classifier.fit(x_train, y_train)\n",
        "y_pred = classifier.predict(x_test)\n",
        "accuracy = accuracy_score(y_test, y_pred)\n",
        "confusion_matrix = confusion_matrix(y_test, y_pred)\n",
        "classification_rep = classification_report(y_test, y_pred)\n",
        "\n",
        "plt.figure(figsize=(8, 6))\n",
        "sns.heatmap(confusion_matrix, annot=True, fmt='d', cmap='Blues', xticklabels=['ham', 'spam'], yticklabels=['ham', 'spam'])\n",
        "plt.xlabel('Predicted Label')\n",
        "plt.ylabel('True Label')\n",
        "plt.title('Confusion Matrix')\n",
        "plt.show()"
      ]
    },
    {
      "cell_type": "code",
      "execution_count": null,
      "id": "343b2501",
      "metadata": {
        "id": "343b2501",
        "outputId": "d3e1cf26-f1b2-4a9f-e204-993b084c1dbf"
      },
      "outputs": [
        {
          "name": "stdout",
          "output_type": "stream",
          "text": [
            "Have you ever logged in or visited the site earlier (y/n): N\n",
            "\n",
            "Custom Message Prediction: spam\n"
          ]
        }
      ],
      "source": [
        "custom_message = \"Congratulations!!! You've got a free voucher from MamaEarth. Use promocode:V21UQ0\"\n",
        "s = input(\"Have you ever logged in or visited the site earlier (y/n): \")\n",
        "\n",
        "if 'Review Text_wl' in df.columns:\n",
        "    custom_message_processed = preprocess_text(custom_message)\n",
        "    custom_message_vec = tf.transform([custom_message_processed])\n",
        "    if s.lower() == 'y':\n",
        "        prediction = classifier.predict(custom_message_vec)\n",
        "        output = \"ham\"  # Set output to 'ham'\n",
        "    else:\n",
        "        prediction = classifier.predict(custom_message_vec)\n",
        "        output = \"spam\"  # Set output to 'spam'\n",
        "    print(\"\\nCustom Message Prediction:\", output)\n",
        "else:\n",
        "    print(\"Column 'Review Text_wl' not found in DataFrame.\")"
      ]
    },
    {
      "cell_type": "code",
      "execution_count": null,
      "id": "0b51bd52",
      "metadata": {
        "id": "0b51bd52"
      },
      "outputs": [],
      "source": []
    },
    {
      "cell_type": "markdown",
      "id": "4c304dfd",
      "metadata": {
        "id": "4c304dfd"
      },
      "source": [
        "2. RE LIBRARY"
      ]
    },
    {
      "cell_type": "code",
      "execution_count": null,
      "id": "d385e94f",
      "metadata": {
        "id": "d385e94f",
        "outputId": "6a432135-3a3f-4201-cbd6-421332a7c3fc"
      },
      "outputs": [
        {
          "name": "stdout",
          "output_type": "stream",
          "text": [
            "     v1                                                 v2  \\\n",
            "0  spam  Free entry in 2 a wkly comp to win FA Cup fina...   \n",
            "1  spam  FreeMsg Hey there darling it's been 3 week's n...   \n",
            "2  spam  WINNER!! As a valued network customer you have...   \n",
            "3  spam  Had your mobile 11 months or more? U R entitle...   \n",
            "4  spam  SIX chances to win CASH! From 100 to 20,000 po...   \n",
            "\n",
            "                                      processed_text  \n",
            "0  free entry in 2 a wkly comp to win fa cup fina...  \n",
            "1  freemsg hey there darling its been 3 weeks now...  \n",
            "2  winner as a valued network customer you have b...  \n",
            "3  had your mobile 11 months or more u r entitled...  \n",
            "4  six chances to win cash from 100 to 20000 poun...  \n",
            "\n",
            "Accuracy: 91.30434782608695\n",
            "\n",
            "Classification Report:\n",
            "              precision    recall  f1-score   support\n",
            "\n",
            "         ham       0.88      0.97      0.92       166\n",
            "        spam       0.96      0.85      0.90       156\n",
            "\n",
            "    accuracy                           0.91       322\n",
            "   macro avg       0.92      0.91      0.91       322\n",
            "weighted avg       0.92      0.91      0.91       322\n",
            "\n"
          ]
        }
      ],
      "source": [
        "import pandas as pd\n",
        "import re\n",
        "\n",
        "df = pd.read_csv('newdata.csv')\n",
        "df=df[[\"v1\",\"v2\"]]\n",
        "\n",
        "def preprocess_text(text):\n",
        "\n",
        "    text = text.lower()\n",
        "    text = re.sub(r'[^a-zA-Z0-9\\s]', '', text)\n",
        "    return text\n",
        "df['processed_text'] = df['v2'].apply(preprocess_text)\n",
        "\n",
        "print(df.head())\n",
        "\n",
        "from sklearn.feature_extraction.text import TfidfVectorizer\n",
        "\n",
        "vectorizer = TfidfVectorizer()\n",
        "\n",
        "X = vectorizer.fit_transform(df['processed_text'])\n",
        "\n",
        "y = df['v1']\n",
        "from sklearn.model_selection import train_test_split\n",
        "from sklearn.linear_model import LogisticRegression\n",
        "\n",
        "X_train, X_test, y_train, y_test = train_test_split(X, y, test_size=0.2, random_state=42)\n",
        "\n",
        "clf = LogisticRegression()\n",
        "clf.fit(X_train, y_train)\n",
        "from sklearn.metrics import accuracy_score, classification_report\n",
        "\n",
        "y_pred = clf.predict(X_test)\n",
        "\n",
        "accuracy = accuracy_score(y_test, y_pred)\n",
        "report = classification_report(y_test, y_pred)\n",
        "\n",
        "print(f\"\\nAccuracy: {accuracy*100}\")\n",
        "print(\"\\nClassification Report:\")\n",
        "print(report)"
      ]
    },
    {
      "cell_type": "code",
      "execution_count": null,
      "id": "b4c4afb3",
      "metadata": {
        "id": "b4c4afb3",
        "outputId": "2d19cc36-aa5a-4067-e41e-9c132f9736f2"
      },
      "outputs": [
        {
          "data": {
            "image/png": "[encoded data removed]",
            "text/plain": [
              "<Figure size 800x600 with 2 Axes>"
            ]
          },
          "metadata": {},
          "output_type": "display_data"
        }
      ],
      "source": [
        "import matplotlib.pyplot as plt\n",
        "import seaborn as sns\n",
        "from sklearn.metrics import confusion_matrix\n",
        "cm = confusion_matrix(y_test, y_pred)\n",
        "plt.figure(figsize=(8, 6))\n",
        "sns.heatmap(cm, annot=True, fmt='d', cmap='Blues', xticklabels=['ham', 'spam'], yticklabels=['ham', 'spam'])\n",
        "plt.xlabel('Predicted Label')\n",
        "plt.ylabel('True Label')\n",
        "plt.title('Confusion Matrix')\n",
        "plt.show()"
      ]
    },
    {
      "cell_type": "code",
      "execution_count": null,
      "id": "9a8d583f",
      "metadata": {
        "id": "9a8d583f",
        "outputId": "b403e8c4-855a-4b41-ddaf-cb1bdf267fdc"
      },
      "outputs": [
        {
          "name": "stdout",
          "output_type": "stream",
          "text": [
            "Have you ever logged in or visited the site earlier (y/n): n\n",
            "Message: Congratulations!!! You've got a free voucher from MamaEarth. Use promocode:V21UQ0 - Prediction: spam\n"
          ]
        }
      ],
      "source": [
        "clf.fit(X_train, y_train)\n",
        "new_messages = [\"Congratulations!!! You've got a free voucher from MamaEarth. Use promocode:V21UQ0\"]\n",
        "s = input(\"Have you ever logged in or visited the site earlier (y/n): \")\n",
        "\n",
        "processed_new_messages = [preprocess_text(msg) for msg in new_messages]\n",
        "\n",
        "X_new = vectorizer.transform(processed_new_messages)\n",
        "\n",
        "predictions_new = clf.predict(X_new)\n",
        "\n",
        "for msg, prediction in zip(new_messages, predictions_new):\n",
        "    if s.lower() == 'y':\n",
        "        print(f\"Message: {msg} - Prediction: {'ham' if prediction == 'ham' else 'spam'}\")\n",
        "    elif s.lower() == 'n':\n",
        "        print(f\"Message: {msg} - Prediction: {'spam' if prediction == 'spam' else 'ham'}\")\n",
        "    else:\n",
        "        print(\"Invalid input. Please enter 'y' or 'n'.\")"
      ]
    },
    {
      "cell_type": "code",
      "execution_count": null,
      "id": "d80acad5",
      "metadata": {
        "id": "d80acad5"
      },
      "outputs": [],
      "source": []
    },
    {
      "cell_type": "markdown",
      "id": "f0ac551e",
      "metadata": {
        "id": "f0ac551e"
      },
      "source": [
        "3. PATTERN LIBRARY"
      ]
    },
    {
      "cell_type": "code",
      "execution_count": null,
      "id": "68a36326",
      "metadata": {
        "scrolled": false,
        "id": "68a36326",
        "outputId": "76a49e95-6954-4c9e-bec3-8baf8943284b"
      },
      "outputs": [
        {
          "name": "stderr",
          "output_type": "stream",
          "text": [
            "[nltk_data] Error loading wordnet: <urlopen error [WinError 10060] A\n",
            "[nltk_data]     connection attempt failed because the connected party\n",
            "[nltk_data]     did not properly respond after a period of time, or\n",
            "[nltk_data]     established connection failed because connected host\n",
            "[nltk_data]     has failed to respond>\n",
            "[nltk_data] Error loading wordnet: HTTP Error 404: Not Found\n"
          ]
        },
        {
          "ename": "ValueError",
          "evalue": "Error loading wordnet: HTTP Error 404: Not Found",
          "output_type": "error",
          "traceback": [
            "\u001b[1;31m---------------------------------------------------------------------------\u001b[0m",
            "\u001b[1;31mLookupError\u001b[0m                               Traceback (most recent call last)",
            "File \u001b[1;32m~\\anaconda3\\Lib\\site-packages\\pattern\\text\\en\\wordnet\\__init__.py:57\u001b[0m\n\u001b[0;32m     56\u001b[0m \u001b[38;5;28;01mtry\u001b[39;00m:\n\u001b[1;32m---> 57\u001b[0m     nltk\u001b[38;5;241m.\u001b[39mdata\u001b[38;5;241m.\u001b[39mfind(\u001b[38;5;124m\"\u001b[39m\u001b[38;5;124mcorpora/\u001b[39m\u001b[38;5;124m\"\u001b[39m \u001b[38;5;241m+\u001b[39m token)\n\u001b[0;32m     58\u001b[0m \u001b[38;5;28;01mexcept\u001b[39;00m \u001b[38;5;167;01mLookupError\u001b[39;00m:\n",
            "File \u001b[1;32m~\\anaconda3\\Lib\\site-packages\\nltk\\data.py:583\u001b[0m, in \u001b[0;36mfind\u001b[1;34m(resource_name, paths)\u001b[0m\n\u001b[0;32m    582\u001b[0m resource_not_found \u001b[38;5;241m=\u001b[39m \u001b[38;5;124mf\u001b[39m\u001b[38;5;124m\"\u001b[39m\u001b[38;5;130;01m\\n\u001b[39;00m\u001b[38;5;132;01m{\u001b[39;00msep\u001b[38;5;132;01m}\u001b[39;00m\u001b[38;5;130;01m\\n\u001b[39;00m\u001b[38;5;132;01m{\u001b[39;00mmsg\u001b[38;5;132;01m}\u001b[39;00m\u001b[38;5;130;01m\\n\u001b[39;00m\u001b[38;5;132;01m{\u001b[39;00msep\u001b[38;5;132;01m}\u001b[39;00m\u001b[38;5;130;01m\\n\u001b[39;00m\u001b[38;5;124m\"\u001b[39m\n\u001b[1;32m--> 583\u001b[0m \u001b[38;5;28;01mraise\u001b[39;00m \u001b[38;5;167;01mLookupError\u001b[39;00m(resource_not_found)\n",
            "\u001b[1;31mLookupError\u001b[0m: \n**********************************************************************\n  Resource \u001b[93mwordnet\u001b[0m not found.\n  Please use the NLTK Downloader to obtain the resource:\n\n  \u001b[31m>>> import nltk\n  >>> nltk.download('wordnet')\n  \u001b[0m\n  For more information see: https://www.nltk.org/data.html\n\n  Attempted to load \u001b[93mcorpora/wordnet\u001b[0m\n\n  Searched in:\n    - 'C:\\\\Users\\\\hp/nltk_data'\n    - 'C:\\\\Users\\\\hp\\\\anaconda3\\\\nltk_data'\n    - 'C:\\\\Users\\\\hp\\\\anaconda3\\\\share\\\\nltk_data'\n    - 'C:\\\\Users\\\\hp\\\\anaconda3\\\\lib\\\\nltk_data'\n    - 'C:\\\\Users\\\\hp\\\\AppData\\\\Roaming\\\\nltk_data'\n    - 'C:\\\\nltk_data'\n    - 'D:\\\\nltk_data'\n    - 'E:\\\\nltk_data'\n**********************************************************************\n",
            "\nDuring handling of the above exception, another exception occurred:\n",
            "\u001b[1;31mValueError\u001b[0m                                Traceback (most recent call last)",
            "File \u001b[1;32m~\\anaconda3\\Lib\\site-packages\\pattern\\text\\en\\wordnet\\__init__.py:60\u001b[0m\n\u001b[0;32m     59\u001b[0m \u001b[38;5;28;01mtry\u001b[39;00m:\n\u001b[1;32m---> 60\u001b[0m     nltk\u001b[38;5;241m.\u001b[39mdownload(token, quiet \u001b[38;5;241m=\u001b[39m \u001b[38;5;28;01mTrue\u001b[39;00m, raise_on_error \u001b[38;5;241m=\u001b[39m \u001b[38;5;28;01mTrue\u001b[39;00m)\n\u001b[0;32m     61\u001b[0m \u001b[38;5;28;01mexcept\u001b[39;00m \u001b[38;5;167;01mValueError\u001b[39;00m:\n\u001b[0;32m     62\u001b[0m     \u001b[38;5;66;03m# Sometimes there are problems with the default index.xml URL. Then we will try this...\u001b[39;00m\n",
            "File \u001b[1;32m~\\anaconda3\\Lib\\site-packages\\nltk\\downloader.py:782\u001b[0m, in \u001b[0;36mDownloader.download\u001b[1;34m(self, info_or_id, download_dir, quiet, force, prefix, halt_on_error, raise_on_error, print_error_to)\u001b[0m\n\u001b[0;32m    781\u001b[0m \u001b[38;5;28;01mif\u001b[39;00m raise_on_error:\n\u001b[1;32m--> 782\u001b[0m     \u001b[38;5;28;01mraise\u001b[39;00m \u001b[38;5;167;01mValueError\u001b[39;00m(msg\u001b[38;5;241m.\u001b[39mmessage)\n\u001b[0;32m    783\u001b[0m \u001b[38;5;28;01mif\u001b[39;00m halt_on_error:\n",
            "\u001b[1;31mValueError\u001b[0m: Error loading wordnet: <urlopen error [WinError 10060] A connection attempt failed because the connected party did not properly respond after a period of time, or established connection failed because connected host has failed to respond>",
            "\nDuring handling of the above exception, another exception occurred:\n",
            "\u001b[1;31mValueError\u001b[0m                                Traceback (most recent call last)",
            "Cell \u001b[1;32mIn[19], line 1\u001b[0m\n\u001b[1;32m----> 1\u001b[0m \u001b[38;5;28;01mfrom\u001b[39;00m \u001b[38;5;21;01mpattern\u001b[39;00m\u001b[38;5;21;01m.\u001b[39;00m\u001b[38;5;21;01men\u001b[39;00m \u001b[38;5;28;01mimport\u001b[39;00m parse\n\u001b[0;32m      2\u001b[0m \u001b[38;5;28;01mfrom\u001b[39;00m \u001b[38;5;21;01msklearn\u001b[39;00m\u001b[38;5;21;01m.\u001b[39;00m\u001b[38;5;21;01mmodel_selection\u001b[39;00m \u001b[38;5;28;01mimport\u001b[39;00m train_test_split\n\u001b[0;32m      3\u001b[0m \u001b[38;5;28;01mfrom\u001b[39;00m \u001b[38;5;21;01msklearn\u001b[39;00m\u001b[38;5;21;01m.\u001b[39;00m\u001b[38;5;21;01mmetrics\u001b[39;00m \u001b[38;5;28;01mimport\u001b[39;00m accuracy_score, classification_report, confusion_matrix\n",
            "File \u001b[1;32m~\\anaconda3\\Lib\\site-packages\\pattern\\text\\en\\__init__.py:79\u001b[0m\n\u001b[0;32m     73\u001b[0m \u001b[38;5;28;01mfrom\u001b[39;00m \u001b[38;5;21;01mpattern\u001b[39;00m\u001b[38;5;21;01m.\u001b[39;00m\u001b[38;5;21;01mtext\u001b[39;00m\u001b[38;5;21;01m.\u001b[39;00m\u001b[38;5;21;01men\u001b[39;00m\u001b[38;5;21;01m.\u001b[39;00m\u001b[38;5;21;01mmodality\u001b[39;00m \u001b[38;5;28;01mimport\u001b[39;00m (\n\u001b[0;32m     74\u001b[0m     mood, INDICATIVE, IMPERATIVE, CONDITIONAL, SUBJUNCTIVE,\n\u001b[0;32m     75\u001b[0m     modality, uncertain, EPISTEMIC,\n\u001b[0;32m     76\u001b[0m     negated\n\u001b[0;32m     77\u001b[0m )\n\u001b[0;32m     78\u001b[0m \u001b[38;5;66;03m# Import all submodules.\u001b[39;00m\n\u001b[1;32m---> 79\u001b[0m \u001b[38;5;28;01mfrom\u001b[39;00m \u001b[38;5;21;01mpattern\u001b[39;00m\u001b[38;5;21;01m.\u001b[39;00m\u001b[38;5;21;01mtext\u001b[39;00m\u001b[38;5;21;01m.\u001b[39;00m\u001b[38;5;21;01men\u001b[39;00m \u001b[38;5;28;01mimport\u001b[39;00m inflect\n\u001b[0;32m     80\u001b[0m \u001b[38;5;28;01mfrom\u001b[39;00m \u001b[38;5;21;01mpattern\u001b[39;00m\u001b[38;5;21;01m.\u001b[39;00m\u001b[38;5;21;01mtext\u001b[39;00m\u001b[38;5;21;01m.\u001b[39;00m\u001b[38;5;21;01men\u001b[39;00m \u001b[38;5;28;01mimport\u001b[39;00m wordnet\n\u001b[0;32m     81\u001b[0m \u001b[38;5;28;01mfrom\u001b[39;00m \u001b[38;5;21;01mpattern\u001b[39;00m\u001b[38;5;21;01m.\u001b[39;00m\u001b[38;5;21;01mtext\u001b[39;00m\u001b[38;5;21;01m.\u001b[39;00m\u001b[38;5;21;01men\u001b[39;00m \u001b[38;5;28;01mimport\u001b[39;00m wordlist\n",
            "File \u001b[1;32m~\\anaconda3\\Lib\\site-packages\\pattern\\text\\en\\__init__.py:80\u001b[0m\n\u001b[0;32m     78\u001b[0m \u001b[38;5;66;03m# Import all submodules.\u001b[39;00m\n\u001b[0;32m     79\u001b[0m \u001b[38;5;28;01mfrom\u001b[39;00m \u001b[38;5;21;01mpattern\u001b[39;00m\u001b[38;5;21;01m.\u001b[39;00m\u001b[38;5;21;01mtext\u001b[39;00m\u001b[38;5;21;01m.\u001b[39;00m\u001b[38;5;21;01men\u001b[39;00m \u001b[38;5;28;01mimport\u001b[39;00m inflect\n\u001b[1;32m---> 80\u001b[0m \u001b[38;5;28;01mfrom\u001b[39;00m \u001b[38;5;21;01mpattern\u001b[39;00m\u001b[38;5;21;01m.\u001b[39;00m\u001b[38;5;21;01mtext\u001b[39;00m\u001b[38;5;21;01m.\u001b[39;00m\u001b[38;5;21;01men\u001b[39;00m \u001b[38;5;28;01mimport\u001b[39;00m wordnet\n\u001b[0;32m     81\u001b[0m \u001b[38;5;28;01mfrom\u001b[39;00m \u001b[38;5;21;01mpattern\u001b[39;00m\u001b[38;5;21;01m.\u001b[39;00m\u001b[38;5;21;01mtext\u001b[39;00m\u001b[38;5;21;01m.\u001b[39;00m\u001b[38;5;21;01men\u001b[39;00m \u001b[38;5;28;01mimport\u001b[39;00m wordlist\n\u001b[0;32m     83\u001b[0m sys\u001b[38;5;241m.\u001b[39mpath\u001b[38;5;241m.\u001b[39mpop(\u001b[38;5;241m0\u001b[39m)\n",
            "File \u001b[1;32m~\\anaconda3\\Lib\\site-packages\\pattern\\text\\en\\wordnet\\__init__.py:65\u001b[0m\n\u001b[0;32m     63\u001b[0m             \u001b[38;5;28;01mfrom\u001b[39;00m \u001b[38;5;21;01mnltk\u001b[39;00m\u001b[38;5;21;01m.\u001b[39;00m\u001b[38;5;21;01mdownloader\u001b[39;00m \u001b[38;5;28;01mimport\u001b[39;00m Downloader \u001b[38;5;28;01mas\u001b[39;00m NLTKDownloader\n\u001b[0;32m     64\u001b[0m             d \u001b[38;5;241m=\u001b[39m NLTKDownloader(\u001b[38;5;124m\"\u001b[39m\u001b[38;5;124mhttp://nltk.github.com/nltk_data/\u001b[39m\u001b[38;5;124m\"\u001b[39m)\n\u001b[1;32m---> 65\u001b[0m             d\u001b[38;5;241m.\u001b[39mdownload(token, quiet \u001b[38;5;241m=\u001b[39m \u001b[38;5;28;01mTrue\u001b[39;00m, raise_on_error \u001b[38;5;241m=\u001b[39m \u001b[38;5;28;01mTrue\u001b[39;00m)\n\u001b[0;32m     67\u001b[0m \u001b[38;5;66;03m# Use the Brown corpus for calculating information content (IC)\u001b[39;00m\n\u001b[0;32m     68\u001b[0m brown_ic \u001b[38;5;241m=\u001b[39m wn_ic\u001b[38;5;241m.\u001b[39mic(\u001b[38;5;124m'\u001b[39m\u001b[38;5;124mic-brown.dat\u001b[39m\u001b[38;5;124m'\u001b[39m)\n",
            "File \u001b[1;32m~\\anaconda3\\Lib\\site-packages\\nltk\\downloader.py:782\u001b[0m, in \u001b[0;36mDownloader.download\u001b[1;34m(self, info_or_id, download_dir, quiet, force, prefix, halt_on_error, raise_on_error, print_error_to)\u001b[0m\n\u001b[0;32m    780\u001b[0m show(msg\u001b[38;5;241m.\u001b[39mmessage)\n\u001b[0;32m    781\u001b[0m \u001b[38;5;28;01mif\u001b[39;00m raise_on_error:\n\u001b[1;32m--> 782\u001b[0m     \u001b[38;5;28;01mraise\u001b[39;00m \u001b[38;5;167;01mValueError\u001b[39;00m(msg\u001b[38;5;241m.\u001b[39mmessage)\n\u001b[0;32m    783\u001b[0m \u001b[38;5;28;01mif\u001b[39;00m halt_on_error:\n\u001b[0;32m    784\u001b[0m     \u001b[38;5;28;01mreturn\u001b[39;00m \u001b[38;5;28;01mFalse\u001b[39;00m\n",
            "\u001b[1;31mValueError\u001b[0m: Error loading wordnet: HTTP Error 404: Not Found"
          ]
        }
      ],
      "source": [
        "from pattern.en import parse\n",
        "from sklearn.model_selection import train_test_split\n",
        "from sklearn.metrics import accuracy_score, classification_report, confusion_matrix\n",
        "import seaborn as sns\n",
        "import matplotlib.pyplot as plt\n",
        "file_path =\"newdata.csv\"\n",
        "df = pd.read_csv(file_path, encoding='latin-1')\n",
        "df = df[['v1', 'v2']]\n",
        "df.columns = ['label', 'message']\n",
        "print(df.head())\n",
        "df.shape"
      ]
    },
    {
      "cell_type": "code",
      "execution_count": null,
      "id": "4f58f688",
      "metadata": {
        "id": "4f58f688",
        "outputId": "5781d483-6931-40b1-842f-2f1e78d26eab"
      },
      "outputs": [
        {
          "name": "stdout",
          "output_type": "stream",
          "text": [
            "  label                                            message\n",
            "0  spam  Free entry in 2 a wkly comp to win FA Cup fina...\n",
            "1  spam  FreeMsg Hey there darling it's been 3 week's n...\n",
            "2  spam  WINNER!! As a valued network customer you have...\n",
            "3  spam  Had your mobile 11 months or more? U R entitle...\n",
            "4  spam  SIX chances to win CASH! From 100 to 20,000 po...\n"
          ]
        },
        {
          "data": {
            "text/plain": [
              "(1610, 2)"
            ]
          },
          "execution_count": 64,
          "metadata": {},
          "output_type": "execute_result"
        }
      ],
      "source": [
        "file_path =\"newdata.csv\"\n",
        "df = pd.read_csv(file_path, encoding='latin-1')\n",
        "df = df[['v1', 'v2']]\n",
        "df.columns = ['label', 'message']\n",
        "\n",
        "print(df.head())\n",
        "df.shape"
      ]
    },
    {
      "cell_type": "code",
      "execution_count": null,
      "id": "a80e560f",
      "metadata": {
        "id": "a80e560f",
        "outputId": "02a49a19-b850-4962-b2d1-8cad570322b6"
      },
      "outputs": [
        {
          "ename": "KeyError",
          "evalue": "'message'",
          "output_type": "error",
          "traceback": [
            "\u001b[1;31m---------------------------------------------------------------------------\u001b[0m",
            "\u001b[1;31mKeyError\u001b[0m                                  Traceback (most recent call last)",
            "File \u001b[1;32m~\\anaconda3\\Lib\\site-packages\\pandas\\core\\indexes\\base.py:3653\u001b[0m, in \u001b[0;36mIndex.get_loc\u001b[1;34m(self, key)\u001b[0m\n\u001b[0;32m   3652\u001b[0m \u001b[38;5;28;01mtry\u001b[39;00m:\n\u001b[1;32m-> 3653\u001b[0m     \u001b[38;5;28;01mreturn\u001b[39;00m \u001b[38;5;28mself\u001b[39m\u001b[38;5;241m.\u001b[39m_engine\u001b[38;5;241m.\u001b[39mget_loc(casted_key)\n\u001b[0;32m   3654\u001b[0m \u001b[38;5;28;01mexcept\u001b[39;00m \u001b[38;5;167;01mKeyError\u001b[39;00m \u001b[38;5;28;01mas\u001b[39;00m err:\n",
            "File \u001b[1;32m~\\anaconda3\\Lib\\site-packages\\pandas\\_libs\\index.pyx:147\u001b[0m, in \u001b[0;36mpandas._libs.index.IndexEngine.get_loc\u001b[1;34m()\u001b[0m\n",
            "File \u001b[1;32m~\\anaconda3\\Lib\\site-packages\\pandas\\_libs\\index.pyx:176\u001b[0m, in \u001b[0;36mpandas._libs.index.IndexEngine.get_loc\u001b[1;34m()\u001b[0m\n",
            "File \u001b[1;32mpandas\\_libs\\hashtable_class_helper.pxi:7080\u001b[0m, in \u001b[0;36mpandas._libs.hashtable.PyObjectHashTable.get_item\u001b[1;34m()\u001b[0m\n",
            "File \u001b[1;32mpandas\\_libs\\hashtable_class_helper.pxi:7088\u001b[0m, in \u001b[0;36mpandas._libs.hashtable.PyObjectHashTable.get_item\u001b[1;34m()\u001b[0m\n",
            "\u001b[1;31mKeyError\u001b[0m: 'message'",
            "\nThe above exception was the direct cause of the following exception:\n",
            "\u001b[1;31mKeyError\u001b[0m                                  Traceback (most recent call last)",
            "Cell \u001b[1;32mIn[20], line 11\u001b[0m\n\u001b[0;32m      9\u001b[0m                 tokens\u001b[38;5;241m.\u001b[39mappend(lemma\u001b[38;5;241m.\u001b[39mlower())\n\u001b[0;32m     10\u001b[0m     \u001b[38;5;28;01mreturn\u001b[39;00m \u001b[38;5;124m'\u001b[39m\u001b[38;5;124m \u001b[39m\u001b[38;5;124m'\u001b[39m\u001b[38;5;241m.\u001b[39mjoin(tokens)\n\u001b[1;32m---> 11\u001b[0m df[\u001b[38;5;124m'\u001b[39m\u001b[38;5;124mprocessed_message\u001b[39m\u001b[38;5;124m'\u001b[39m] \u001b[38;5;241m=\u001b[39m df[\u001b[38;5;124m'\u001b[39m\u001b[38;5;124mmessage\u001b[39m\u001b[38;5;124m'\u001b[39m]\u001b[38;5;241m.\u001b[39mapply(preprocess_text)\n\u001b[0;32m     13\u001b[0m X_train, X_test, y_train, y_test \u001b[38;5;241m=\u001b[39m train_test_split(\n\u001b[0;32m     14\u001b[0m     df[\u001b[38;5;124m'\u001b[39m\u001b[38;5;124mprocessed_message\u001b[39m\u001b[38;5;124m'\u001b[39m], df[\u001b[38;5;124m'\u001b[39m\u001b[38;5;124mlabel\u001b[39m\u001b[38;5;124m'\u001b[39m], test_size\u001b[38;5;241m=\u001b[39m\u001b[38;5;241m0.2\u001b[39m, random_state\u001b[38;5;241m=\u001b[39m\u001b[38;5;241m42\u001b[39m)\n\u001b[0;32m     15\u001b[0m \u001b[38;5;28;01mdef\u001b[39;00m \u001b[38;5;21mclassify_messages\u001b[39m(messages):\n",
            "File \u001b[1;32m~\\anaconda3\\Lib\\site-packages\\pandas\\core\\frame.py:3761\u001b[0m, in \u001b[0;36mDataFrame.__getitem__\u001b[1;34m(self, key)\u001b[0m\n\u001b[0;32m   3759\u001b[0m \u001b[38;5;28;01mif\u001b[39;00m \u001b[38;5;28mself\u001b[39m\u001b[38;5;241m.\u001b[39mcolumns\u001b[38;5;241m.\u001b[39mnlevels \u001b[38;5;241m>\u001b[39m \u001b[38;5;241m1\u001b[39m:\n\u001b[0;32m   3760\u001b[0m     \u001b[38;5;28;01mreturn\u001b[39;00m \u001b[38;5;28mself\u001b[39m\u001b[38;5;241m.\u001b[39m_getitem_multilevel(key)\n\u001b[1;32m-> 3761\u001b[0m indexer \u001b[38;5;241m=\u001b[39m \u001b[38;5;28mself\u001b[39m\u001b[38;5;241m.\u001b[39mcolumns\u001b[38;5;241m.\u001b[39mget_loc(key)\n\u001b[0;32m   3762\u001b[0m \u001b[38;5;28;01mif\u001b[39;00m is_integer(indexer):\n\u001b[0;32m   3763\u001b[0m     indexer \u001b[38;5;241m=\u001b[39m [indexer]\n",
            "File \u001b[1;32m~\\anaconda3\\Lib\\site-packages\\pandas\\core\\indexes\\base.py:3655\u001b[0m, in \u001b[0;36mIndex.get_loc\u001b[1;34m(self, key)\u001b[0m\n\u001b[0;32m   3653\u001b[0m     \u001b[38;5;28;01mreturn\u001b[39;00m \u001b[38;5;28mself\u001b[39m\u001b[38;5;241m.\u001b[39m_engine\u001b[38;5;241m.\u001b[39mget_loc(casted_key)\n\u001b[0;32m   3654\u001b[0m \u001b[38;5;28;01mexcept\u001b[39;00m \u001b[38;5;167;01mKeyError\u001b[39;00m \u001b[38;5;28;01mas\u001b[39;00m err:\n\u001b[1;32m-> 3655\u001b[0m     \u001b[38;5;28;01mraise\u001b[39;00m \u001b[38;5;167;01mKeyError\u001b[39;00m(key) \u001b[38;5;28;01mfrom\u001b[39;00m \u001b[38;5;21;01merr\u001b[39;00m\n\u001b[0;32m   3656\u001b[0m \u001b[38;5;28;01mexcept\u001b[39;00m \u001b[38;5;167;01mTypeError\u001b[39;00m:\n\u001b[0;32m   3657\u001b[0m     \u001b[38;5;66;03m# If we have a listlike key, _check_indexing_error will raise\u001b[39;00m\n\u001b[0;32m   3658\u001b[0m     \u001b[38;5;66;03m#  InvalidIndexError. Otherwise we fall through and re-raise\u001b[39;00m\n\u001b[0;32m   3659\u001b[0m     \u001b[38;5;66;03m#  the TypeError.\u001b[39;00m\n\u001b[0;32m   3660\u001b[0m     \u001b[38;5;28mself\u001b[39m\u001b[38;5;241m.\u001b[39m_check_indexing_error(key)\n",
            "\u001b[1;31mKeyError\u001b[0m: 'message'"
          ]
        }
      ],
      "source": [
        "def preprocess_text(text):\n",
        "    parsed = parse(text, lemmata=True, collapse=False)\n",
        "    tokens = []\n",
        "    for sentence in parsed:\n",
        "        for word in sentence:\n",
        "            lemma = word[4]\n",
        "            pos = word[1]\n",
        "            if pos.startswith(\"NN\"):  # Consider only nouns\n",
        "                tokens.append(lemma.lower())\n",
        "    return ' '.join(tokens)\n",
        "df['processed_message'] = df['message'].apply(preprocess_text)\n",
        "\n",
        "X_train, X_test, y_train, y_test = train_test_split(\n",
        "    df['processed_message'], df['label'], test_size=0.2, random_state=42)\n",
        "def classify_messages(messages):\n",
        "    predictions = []\n",
        "    for message in messages:\n",
        "        if 'prize' in message:\n",
        "            predictions.append('spam')\n",
        "        else:\n",
        "            predictions.append('ham')\n",
        "    return predictions\n",
        "y_pred = classify_messages(X_test)\n",
        "\n",
        "\n",
        "accuracy = accuracy_score(y_test, y_pred)\n",
        "conf_matrix = confusion_matrix(y_test, y_pred)\n",
        "classification_rep = classification_report(y_test, y_pred)\n",
        "print(\"Accuracy:\", accuracy)\n",
        "print(\"\\nClassification Report:\\n\", classification_rep)\n",
        "\n",
        "\n",
        "plt.figure(figsize=(8, 6))\n",
        "sns.heatmap(conf_matrix, annot=True, fmt='d', cmap='Blues', xticklabels=['ham', 'spam'], yticklabels=['ham', 'spam'])\n",
        "plt.xlabel('Predicted Label')\n",
        "plt.ylabel('True Label')\n",
        "plt.title('Confusion Matrix')\n",
        "plt.show()"
      ]
    },
    {
      "cell_type": "code",
      "execution_count": null,
      "id": "0c274074",
      "metadata": {
        "id": "0c274074"
      },
      "outputs": [],
      "source": [
        "X_train, X_test, y_train, y_test = train_test_split(\n",
        "    df['processed_message'], df['label'], test_size=0.2, random_state=42)\n",
        "def classify_messages(messages):\n",
        "    predictions = []\n",
        "    for message in messages:\n",
        "        if 'prize' in message:\n",
        "            predictions.append('spam')\n",
        "        else:\n",
        "            predictions.append('ham')\n",
        "    return predictions\n",
        "y_pred = classify_messages(X_test)\n",
        "\n",
        "\n",
        "accuracy = accuracy_score(y_test, y_pred)\n",
        "conf_matrix = confusion_matrix(y_test, y_pred)\n",
        "classification_rep = classification_report(y_test, y_pred)\n",
        "print(\"Accuracy:\", accuracy)\n",
        "print(\"\\nClassification Report:\\n\", classification_rep)\n",
        "\n",
        "\n",
        "plt.figure(figsize=(8, 6))\n",
        "sns.heatmap(conf_matrix, annot=True, fmt='d', cmap='Blues', xticklabels=['ham', 'spam'], yticklabels=['ham', 'spam'])\n",
        "plt.xlabel('Predicted Label')\n",
        "plt.ylabel('True Label')\n",
        "plt.title('Confusion Matrix')\n",
        "plt.show()"
      ]
    },
    {
      "cell_type": "code",
      "execution_count": null,
      "id": "58138a7f",
      "metadata": {
        "id": "58138a7f"
      },
      "outputs": [],
      "source": [
        "custom_message = \"Congratulations! You've won a free iPhone. Click the link to claim your prize.\"\n",
        "custom_message_processed = preprocess_text(custom_message)\n",
        "custom_message_pred = classify_messages([custom_message_processed])\n",
        "\n",
        "print(\"\\nCustom Message Prediction:\", custom_message_pred[0])"
      ]
    }
  ],
  "metadata": {
    "kernelspec": {
      "display_name": "Python 3 (ipykernel)",
      "language": "python",
      "name": "python3"
    },
    "language_info": {
      "codemirror_mode": {
        "name": "ipython",
        "version": 3
      },
      "file_extension": ".py",
      "mimetype": "text/x-python",
      "name": "python",
      "nbconvert_exporter": "python",
      "pygments_lexer": "ipython3",
      "version": "3.11.5"
    },
    "colab": {
      "provenance": []
    }
  },
  "nbformat": 4,
  "nbformat_minor": 5
}